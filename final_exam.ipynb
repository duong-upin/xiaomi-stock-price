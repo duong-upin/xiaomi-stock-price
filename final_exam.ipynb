{
 "cells": [
  {
   "cell_type": "markdown",
   "id": "74eb5045",
   "metadata": {},
   "source": [
    "# Technology stock market analysis"
   ]
  },
  {
   "cell_type": "markdown",
   "id": "296d3b48",
   "metadata": {},
   "source": [
    "### I. First, import modules need"
   ]
  },
  {
   "cell_type": "code",
   "execution_count": 1,
   "id": "68b41c0d",
   "metadata": {},
   "outputs": [],
   "source": [
    "import pandas as pd\n",
    "import yfinance as yf\n",
    "import seaborn as sns\n",
    "import matplotlib.pyplot as plt"
   ]
  },
  {
   "cell_type": "markdown",
   "id": "5ed6d6a0",
   "metadata": {},
   "source": [
    "The above libraries are quite enough to visualize the data. To make the interface more user-friendly and interactive, I will use the following libraries:"
   ]
  },
  {
   "cell_type": "code",
   "execution_count": 2,
   "id": "ca7983d6",
   "metadata": {},
   "outputs": [],
   "source": [
    "import plotly.express as px\n",
    "import plotly.graph_objects as go\n",
    "import plotly.subplots as sp\n",
    "import webbrowser"
   ]
  },
  {
   "cell_type": "markdown",
   "id": "6fe0f65e",
   "metadata": {},
   "source": [
    "### II. Next, data stock price collection\n",
    "I use `yfinance` package to data stock price collection:"
   ]
  },
  {
   "cell_type": "code",
   "execution_count": 3,
   "id": "c62f3fae",
   "metadata": {},
   "outputs": [
    {
     "data": {
      "text/html": [
       "<div>\n",
       "<style scoped>\n",
       "    .dataframe tbody tr th:only-of-type {\n",
       "        vertical-align: middle;\n",
       "    }\n",
       "\n",
       "    .dataframe tbody tr th {\n",
       "        vertical-align: top;\n",
       "    }\n",
       "\n",
       "    .dataframe thead th {\n",
       "        text-align: right;\n",
       "    }\n",
       "</style>\n",
       "<table border=\"1\" class=\"dataframe\">\n",
       "  <thead>\n",
       "    <tr style=\"text-align: right;\">\n",
       "      <th></th>\n",
       "      <th>Date</th>\n",
       "      <th>Open</th>\n",
       "      <th>High</th>\n",
       "      <th>Low</th>\n",
       "      <th>Close</th>\n",
       "      <th>Volume</th>\n",
       "      <th>Dividends</th>\n",
       "      <th>Stock Splits</th>\n",
       "    </tr>\n",
       "  </thead>\n",
       "  <tbody>\n",
       "    <tr>\n",
       "      <th>0</th>\n",
       "      <td>2024-06-20 00:00:00+08:00</td>\n",
       "      <td>18.500000</td>\n",
       "      <td>18.719999</td>\n",
       "      <td>18.299999</td>\n",
       "      <td>18.520000</td>\n",
       "      <td>90185310</td>\n",
       "      <td>0.0</td>\n",
       "      <td>0.0</td>\n",
       "    </tr>\n",
       "    <tr>\n",
       "      <th>1</th>\n",
       "      <td>2024-06-21 00:00:00+08:00</td>\n",
       "      <td>18.280001</td>\n",
       "      <td>18.400000</td>\n",
       "      <td>17.840000</td>\n",
       "      <td>18.180000</td>\n",
       "      <td>87851069</td>\n",
       "      <td>0.0</td>\n",
       "      <td>0.0</td>\n",
       "    </tr>\n",
       "    <tr>\n",
       "      <th>2</th>\n",
       "      <td>2024-06-24 00:00:00+08:00</td>\n",
       "      <td>17.959999</td>\n",
       "      <td>18.080000</td>\n",
       "      <td>17.559999</td>\n",
       "      <td>18.020000</td>\n",
       "      <td>69977040</td>\n",
       "      <td>0.0</td>\n",
       "      <td>0.0</td>\n",
       "    </tr>\n",
       "    <tr>\n",
       "      <th>3</th>\n",
       "      <td>2024-06-25 00:00:00+08:00</td>\n",
       "      <td>18.080000</td>\n",
       "      <td>18.139999</td>\n",
       "      <td>17.620001</td>\n",
       "      <td>17.780001</td>\n",
       "      <td>58116612</td>\n",
       "      <td>0.0</td>\n",
       "      <td>0.0</td>\n",
       "    </tr>\n",
       "    <tr>\n",
       "      <th>4</th>\n",
       "      <td>2024-06-26 00:00:00+08:00</td>\n",
       "      <td>17.580000</td>\n",
       "      <td>17.940001</td>\n",
       "      <td>17.540001</td>\n",
       "      <td>17.820000</td>\n",
       "      <td>44582518</td>\n",
       "      <td>0.0</td>\n",
       "      <td>0.0</td>\n",
       "    </tr>\n",
       "    <tr>\n",
       "      <th>...</th>\n",
       "      <td>...</td>\n",
       "      <td>...</td>\n",
       "      <td>...</td>\n",
       "      <td>...</td>\n",
       "      <td>...</td>\n",
       "      <td>...</td>\n",
       "      <td>...</td>\n",
       "      <td>...</td>\n",
       "    </tr>\n",
       "    <tr>\n",
       "      <th>241</th>\n",
       "      <td>2025-06-16 00:00:00+08:00</td>\n",
       "      <td>51.950001</td>\n",
       "      <td>54.500000</td>\n",
       "      <td>51.500000</td>\n",
       "      <td>54.150002</td>\n",
       "      <td>220357669</td>\n",
       "      <td>0.0</td>\n",
       "      <td>0.0</td>\n",
       "    </tr>\n",
       "    <tr>\n",
       "      <th>242</th>\n",
       "      <td>2025-06-17 00:00:00+08:00</td>\n",
       "      <td>54.200001</td>\n",
       "      <td>54.500000</td>\n",
       "      <td>53.599998</td>\n",
       "      <td>54.000000</td>\n",
       "      <td>71275572</td>\n",
       "      <td>0.0</td>\n",
       "      <td>0.0</td>\n",
       "    </tr>\n",
       "    <tr>\n",
       "      <th>243</th>\n",
       "      <td>2025-06-18 00:00:00+08:00</td>\n",
       "      <td>53.750000</td>\n",
       "      <td>54.200001</td>\n",
       "      <td>53.450001</td>\n",
       "      <td>53.799999</td>\n",
       "      <td>64270680</td>\n",
       "      <td>0.0</td>\n",
       "      <td>0.0</td>\n",
       "    </tr>\n",
       "    <tr>\n",
       "      <th>244</th>\n",
       "      <td>2025-06-19 00:00:00+08:00</td>\n",
       "      <td>53.599998</td>\n",
       "      <td>54.099998</td>\n",
       "      <td>52.700001</td>\n",
       "      <td>53.049999</td>\n",
       "      <td>92603544</td>\n",
       "      <td>0.0</td>\n",
       "      <td>0.0</td>\n",
       "    </tr>\n",
       "    <tr>\n",
       "      <th>245</th>\n",
       "      <td>2025-06-20 00:00:00+08:00</td>\n",
       "      <td>53.250000</td>\n",
       "      <td>54.049999</td>\n",
       "      <td>53.000000</td>\n",
       "      <td>54.049999</td>\n",
       "      <td>88197055</td>\n",
       "      <td>0.0</td>\n",
       "      <td>0.0</td>\n",
       "    </tr>\n",
       "  </tbody>\n",
       "</table>\n",
       "<p>246 rows × 8 columns</p>\n",
       "</div>"
      ],
      "text/plain": [
       "                         Date       Open       High        Low      Close  \\\n",
       "0   2024-06-20 00:00:00+08:00  18.500000  18.719999  18.299999  18.520000   \n",
       "1   2024-06-21 00:00:00+08:00  18.280001  18.400000  17.840000  18.180000   \n",
       "2   2024-06-24 00:00:00+08:00  17.959999  18.080000  17.559999  18.020000   \n",
       "3   2024-06-25 00:00:00+08:00  18.080000  18.139999  17.620001  17.780001   \n",
       "4   2024-06-26 00:00:00+08:00  17.580000  17.940001  17.540001  17.820000   \n",
       "..                        ...        ...        ...        ...        ...   \n",
       "241 2025-06-16 00:00:00+08:00  51.950001  54.500000  51.500000  54.150002   \n",
       "242 2025-06-17 00:00:00+08:00  54.200001  54.500000  53.599998  54.000000   \n",
       "243 2025-06-18 00:00:00+08:00  53.750000  54.200001  53.450001  53.799999   \n",
       "244 2025-06-19 00:00:00+08:00  53.599998  54.099998  52.700001  53.049999   \n",
       "245 2025-06-20 00:00:00+08:00  53.250000  54.049999  53.000000  54.049999   \n",
       "\n",
       "        Volume  Dividends  Stock Splits  \n",
       "0     90185310        0.0           0.0  \n",
       "1     87851069        0.0           0.0  \n",
       "2     69977040        0.0           0.0  \n",
       "3     58116612        0.0           0.0  \n",
       "4     44582518        0.0           0.0  \n",
       "..         ...        ...           ...  \n",
       "241  220357669        0.0           0.0  \n",
       "242   71275572        0.0           0.0  \n",
       "243   64270680        0.0           0.0  \n",
       "244   92603544        0.0           0.0  \n",
       "245   88197055        0.0           0.0  \n",
       "\n",
       "[246 rows x 8 columns]"
      ]
     },
     "execution_count": 3,
     "metadata": {},
     "output_type": "execute_result"
    }
   ],
   "source": [
    "symbol = \"1810.HK\"\n",
    "df = yf.Ticker(symbol).history(period = \"1y\").reset_index()\n",
    "df['Date'] = pd.to_datetime(df['Date'])\n",
    "df"
   ]
  },
  {
   "cell_type": "markdown",
   "id": "3b336dc9",
   "metadata": {},
   "source": [
    "For ease of data checking, I save the data to .csv file."
   ]
  },
  {
   "cell_type": "code",
   "execution_count": 5,
   "id": "c5bedf9c",
   "metadata": {},
   "outputs": [],
   "source": [
    "df.to_csv(\"xiaomi_stock_price.csv\", index= False)"
   ]
  },
  {
   "cell_type": "markdown",
   "id": "f2369ca1",
   "metadata": {},
   "source": [
    "Draw closing price chart:"
   ]
  },
  {
   "cell_type": "code",
   "execution_count": 4,
   "id": "22778494",
   "metadata": {},
   "outputs": [
    {
     "data": {
      "text/plain": [
       "True"
      ]
     },
     "execution_count": 4,
     "metadata": {},
     "output_type": "execute_result"
    }
   ],
   "source": [
    "fig = px.line(df, x='Date', y='Close', title=f'{symbol} Stock Price')\n",
    "fig.update_traces(mode='lines+markers')\n",
    "fig.update_layout(\n",
    "    title={'text': f'{symbol} Stock Price', 'x': 0.5},\n",
    "    xaxis_title='Date',\n",
    "    yaxis_title='Price (HKD)'\n",
    ")\n",
    "fig.write_html(\"xiaomi_stock_plot.html\")\n",
    "webbrowser.open(\"xiaomi_stock_plot.html\")"
   ]
  },
  {
   "cell_type": "markdown",
   "id": "da57b221",
   "metadata": {},
   "source": [
    "### III. Data cleaning and processing\n",
    "#### 1. Checking missing value\n",
    "According to the official announcement from HKEX, the exchange conducts trading on Mondays to Fridays, except for Hong Kong holidays. On these holidays, the total trading volume (Volume) will be 0. Although the yfinance library has eliminated non-trading days, we still need to check to see if there are any non-trading days on the exchange to eliminate them."
   ]
  },
  {
   "cell_type": "code",
   "execution_count": 15,
   "id": "bd3d64b1",
   "metadata": {},
   "outputs": [
    {
     "data": {
      "text/html": [
       "<div>\n",
       "<style scoped>\n",
       "    .dataframe tbody tr th:only-of-type {\n",
       "        vertical-align: middle;\n",
       "    }\n",
       "\n",
       "    .dataframe tbody tr th {\n",
       "        vertical-align: top;\n",
       "    }\n",
       "\n",
       "    .dataframe thead th {\n",
       "        text-align: right;\n",
       "    }\n",
       "</style>\n",
       "<table border=\"1\" class=\"dataframe\">\n",
       "  <thead>\n",
       "    <tr style=\"text-align: right;\">\n",
       "      <th></th>\n",
       "      <th>Date</th>\n",
       "      <th>Open</th>\n",
       "      <th>High</th>\n",
       "      <th>Low</th>\n",
       "      <th>Close</th>\n",
       "      <th>Volume</th>\n",
       "      <th>Dividends</th>\n",
       "      <th>Stock Splits</th>\n",
       "    </tr>\n",
       "  </thead>\n",
       "  <tbody>\n",
       "    <tr>\n",
       "      <th>129</th>\n",
       "      <td>2024-12-24 00:00:00+08:00</td>\n",
       "      <td>32.900002</td>\n",
       "      <td>32.900002</td>\n",
       "      <td>32.900002</td>\n",
       "      <td>32.900002</td>\n",
       "      <td>0</td>\n",
       "      <td>0.0</td>\n",
       "      <td>0.0</td>\n",
       "    </tr>\n",
       "    <tr>\n",
       "      <th>132</th>\n",
       "      <td>2024-12-31 00:00:00+08:00</td>\n",
       "      <td>34.650002</td>\n",
       "      <td>34.650002</td>\n",
       "      <td>34.650002</td>\n",
       "      <td>34.650002</td>\n",
       "      <td>0</td>\n",
       "      <td>0.0</td>\n",
       "      <td>0.0</td>\n",
       "    </tr>\n",
       "    <tr>\n",
       "      <th>151</th>\n",
       "      <td>2025-01-28 00:00:00+08:00</td>\n",
       "      <td>38.150002</td>\n",
       "      <td>38.150002</td>\n",
       "      <td>38.150002</td>\n",
       "      <td>38.150002</td>\n",
       "      <td>0</td>\n",
       "      <td>0.0</td>\n",
       "      <td>0.0</td>\n",
       "    </tr>\n",
       "  </tbody>\n",
       "</table>\n",
       "</div>"
      ],
      "text/plain": [
       "                         Date       Open       High        Low      Close  \\\n",
       "129 2024-12-24 00:00:00+08:00  32.900002  32.900002  32.900002  32.900002   \n",
       "132 2024-12-31 00:00:00+08:00  34.650002  34.650002  34.650002  34.650002   \n",
       "151 2025-01-28 00:00:00+08:00  38.150002  38.150002  38.150002  38.150002   \n",
       "\n",
       "     Volume  Dividends  Stock Splits  \n",
       "129       0        0.0           0.0  \n",
       "132       0        0.0           0.0  \n",
       "151       0        0.0           0.0  "
      ]
     },
     "execution_count": 15,
     "metadata": {},
     "output_type": "execute_result"
    }
   ],
   "source": [
    "dt = df[df['Volume'] == 0]\n",
    "dt"
   ]
  },
  {
   "cell_type": "markdown",
   "id": "aaf568c3",
   "metadata": {},
   "source": [
    "Proceed to remove days with total trading volume (Volume) = 0."
   ]
  },
  {
   "cell_type": "code",
   "execution_count": 4,
   "id": "d254bb03",
   "metadata": {},
   "outputs": [],
   "source": [
    "df = df[df['Volume'] > 0]"
   ]
  },
  {
   "cell_type": "markdown",
   "id": "a43f4d51",
   "metadata": {},
   "source": [
    "In addition, in HKEX trading sessions, there are half-day trading sessions, which will end at 12:00 noon instead of 16:00 as usual. This can make the total trading volume of stocks (Volume) lower than usual. Trading sessions can also be interrupted when the market index drops sharply in a short period of time (Circurt break), when there are technical problems or natural disasters. All of the above unusual interruptions will more or less affect the indexes, especially Volume. We also need to remove this data."
   ]
  },
  {
   "cell_type": "markdown",
   "id": "97ed810e",
   "metadata": {},
   "source": [
    "HKEX provides an annual trading calendar. From this calendar, we can identify the half-day sessions during the survey period, including:"
   ]
  },
  {
   "cell_type": "markdown",
   "id": "5734c807",
   "metadata": {},
   "source": [
    "| date       | note                    | type     |\n",
    "|------------|-------------------------|----------|\n",
    "| 2020-12-24 | Christmas Eve           | half-day |\n",
    "| 2020-12-31 | New Year’s Eve          | half-day |\n",
    "| 2021-02-09 | Lunar New Year’s Eve    | half-day |\n",
    "| 2021-12-24 | Christmas Eve           | half-day |\n",
    "| 2021-12-31 | New Year’s Eve          | half-day |\n",
    "| 2022-01-31 | Lunar New Year’s Eve    | half-day |\n",
    "| 2024-02-09 | Lunar New Year’s Eve    | half-day |\n",
    "| 2024-12-24 | Christmas Eve           | half-day |\n",
    "| 2024-12-31 | New Year’s Eve          | half-day |\n",
    "| 2025-01-28 | Lunar New Year’s Eve    | half-day |\n",
    "| 2025-12-24 | Christmas Eve           | half-day |\n",
    "| 2025-12-31 | New Year’s Eve          | half-day |\n"
   ]
  },
  {
   "cell_type": "markdown",
   "id": "4cd77e4a",
   "metadata": {},
   "source": [
    "Proceed to remove these dates from the data:"
   ]
  },
  {
   "cell_type": "code",
   "execution_count": 5,
   "id": "e9d01e5a",
   "metadata": {},
   "outputs": [
    {
     "data": {
      "text/html": [
       "<div>\n",
       "<style scoped>\n",
       "    .dataframe tbody tr th:only-of-type {\n",
       "        vertical-align: middle;\n",
       "    }\n",
       "\n",
       "    .dataframe tbody tr th {\n",
       "        vertical-align: top;\n",
       "    }\n",
       "\n",
       "    .dataframe thead th {\n",
       "        text-align: right;\n",
       "    }\n",
       "</style>\n",
       "<table border=\"1\" class=\"dataframe\">\n",
       "  <thead>\n",
       "    <tr style=\"text-align: right;\">\n",
       "      <th></th>\n",
       "      <th>Date</th>\n",
       "      <th>Open</th>\n",
       "      <th>High</th>\n",
       "      <th>Low</th>\n",
       "      <th>Close</th>\n",
       "      <th>Volume</th>\n",
       "      <th>Dividends</th>\n",
       "      <th>Stock Splits</th>\n",
       "    </tr>\n",
       "  </thead>\n",
       "  <tbody>\n",
       "    <tr>\n",
       "      <th>0</th>\n",
       "      <td>2024-06-20 00:00:00+08:00</td>\n",
       "      <td>18.500000</td>\n",
       "      <td>18.719999</td>\n",
       "      <td>18.299999</td>\n",
       "      <td>18.520000</td>\n",
       "      <td>90185310</td>\n",
       "      <td>0.0</td>\n",
       "      <td>0.0</td>\n",
       "    </tr>\n",
       "    <tr>\n",
       "      <th>1</th>\n",
       "      <td>2024-06-21 00:00:00+08:00</td>\n",
       "      <td>18.280001</td>\n",
       "      <td>18.400000</td>\n",
       "      <td>17.840000</td>\n",
       "      <td>18.180000</td>\n",
       "      <td>87851069</td>\n",
       "      <td>0.0</td>\n",
       "      <td>0.0</td>\n",
       "    </tr>\n",
       "    <tr>\n",
       "      <th>2</th>\n",
       "      <td>2024-06-24 00:00:00+08:00</td>\n",
       "      <td>17.959999</td>\n",
       "      <td>18.080000</td>\n",
       "      <td>17.559999</td>\n",
       "      <td>18.020000</td>\n",
       "      <td>69977040</td>\n",
       "      <td>0.0</td>\n",
       "      <td>0.0</td>\n",
       "    </tr>\n",
       "    <tr>\n",
       "      <th>3</th>\n",
       "      <td>2024-06-25 00:00:00+08:00</td>\n",
       "      <td>18.080000</td>\n",
       "      <td>18.139999</td>\n",
       "      <td>17.620001</td>\n",
       "      <td>17.780001</td>\n",
       "      <td>58116612</td>\n",
       "      <td>0.0</td>\n",
       "      <td>0.0</td>\n",
       "    </tr>\n",
       "    <tr>\n",
       "      <th>4</th>\n",
       "      <td>2024-06-26 00:00:00+08:00</td>\n",
       "      <td>17.580000</td>\n",
       "      <td>17.940001</td>\n",
       "      <td>17.540001</td>\n",
       "      <td>17.820000</td>\n",
       "      <td>44582518</td>\n",
       "      <td>0.0</td>\n",
       "      <td>0.0</td>\n",
       "    </tr>\n",
       "  </tbody>\n",
       "</table>\n",
       "</div>"
      ],
      "text/plain": [
       "                       Date       Open       High        Low      Close  \\\n",
       "0 2024-06-20 00:00:00+08:00  18.500000  18.719999  18.299999  18.520000   \n",
       "1 2024-06-21 00:00:00+08:00  18.280001  18.400000  17.840000  18.180000   \n",
       "2 2024-06-24 00:00:00+08:00  17.959999  18.080000  17.559999  18.020000   \n",
       "3 2024-06-25 00:00:00+08:00  18.080000  18.139999  17.620001  17.780001   \n",
       "4 2024-06-26 00:00:00+08:00  17.580000  17.940001  17.540001  17.820000   \n",
       "\n",
       "     Volume  Dividends  Stock Splits  \n",
       "0  90185310        0.0           0.0  \n",
       "1  87851069        0.0           0.0  \n",
       "2  69977040        0.0           0.0  \n",
       "3  58116612        0.0           0.0  \n",
       "4  44582518        0.0           0.0  "
      ]
     },
     "execution_count": 5,
     "metadata": {},
     "output_type": "execute_result"
    }
   ],
   "source": [
    "half_day_dates = [\n",
    "    \"2020-12-24\", \"2020-12-31\", \"2021-02-09\", \"2021-12-24\", \"2021-12-31\",\n",
    "    \"2022-01-31\", \"2024-02-09\", \"2024-12-24\", \"2024-12-31\",\n",
    "    \"2025-01-28\", \"2025-12-24\", \"2025-12-31\"\n",
    "]\n",
    "half_day_dates = pd.to_datetime(half_day_dates)\n",
    "\n",
    "df_filtered = df[~df['Date'].isin(half_day_dates)]\n",
    "df = df_filtered\n",
    "\n",
    "df.head()"
   ]
  },
  {
   "cell_type": "markdown",
   "id": "ea52d523",
   "metadata": {},
   "source": [
    "#### 2. Checking duplicate:"
   ]
  },
  {
   "cell_type": "code",
   "execution_count": 6,
   "id": "7b30d69c",
   "metadata": {},
   "outputs": [
    {
     "name": "stdout",
     "output_type": "stream",
     "text": [
      "Dữ liệu không có giá trị trùng nên không cần loại bỏ dòng\n"
     ]
    }
   ],
   "source": [
    "if (df.duplicated().sum()) == 0:\n",
    "    print(\"Dữ liệu không có giá trị trùng nên không cần loại bỏ dòng\")\n",
    "else:\n",
    "    print(\"Dữ liệu có giá trị thiếu\")    "
   ]
  },
  {
   "cell_type": "markdown",
   "id": "b4f5b34b",
   "metadata": {},
   "source": [
    "#### 3. Convert date column to date time format"
   ]
  },
  {
   "cell_type": "code",
   "execution_count": 7,
   "id": "d8e3aaef",
   "metadata": {},
   "outputs": [],
   "source": [
    "df['Date'] = pd.to_datetime(df['Date'])"
   ]
  },
  {
   "cell_type": "markdown",
   "id": "0459359b",
   "metadata": {},
   "source": [
    "#### 4. Checking outliers\n"
   ]
  },
  {
   "cell_type": "markdown",
   "id": "19a25b15",
   "metadata": {},
   "source": [
    "Since all the anomalies due to objective factors (exchange, trading time) have been eliminated, the exceptions (if any) are due to unexpected increases and decreases in value due to the movement that do not reflect the real value of the stock. Check if there is any value:"
   ]
  },
  {
   "cell_type": "code",
   "execution_count": 21,
   "id": "6c20edf2",
   "metadata": {},
   "outputs": [
    {
     "data": {
      "image/png": "[encoded data removed]",
      "text/plain": [
       "<Figure size 1000x400 with 1 Axes>"
      ]
     },
     "metadata": {},
     "output_type": "display_data"
    }
   ],
   "source": [
    "plt.figure(figsize=(10, 4))\n",
    "sns.boxplot(x=df['Close'], color='skyblue')\n",
    "plt.title('Boxplot kiểm tra ngoại lai - Giá đóng cửa')\n",
    "plt.xlabel('Giá đóng cửa (HKD)')\n",
    "plt.grid(True, linestyle='--', alpha=0.5)\n",
    "plt.show()\n"
   ]
  },
  {
   "cell_type": "markdown",
   "id": "a259b438",
   "metadata": {},
   "source": [
    "#### 5. After the data cleaning and processing steps, we conclude: ####"
   ]
  },
  {
   "cell_type": "markdown",
   "id": "67e303be",
   "metadata": {},
   "source": [
    "The data collected from the `yfinance` library for Xiaomi Corp stock code (`1810.HK`) has all the necessary columns: `Date`, `Open`, `High`, `Low`, `Close`, `Volume`. Preliminary checks:\n",
    "\n",
    "- No missing values ​​(`NaN`) are displayed in important columns.\n",
    "\n",
    "- No outliers are identified in the data.\n",
    "\n",
    "- The `Date` column is already in the standard `ISO 8601` time format and is converted to `date time` type in Python for time analysis.\n",
    "\n",
    "**Therefore, no additional removal or processing is required. The data is available for further calculations and analysis.**"
   ]
  },
  {
   "cell_type": "code",
   "execution_count": null,
   "id": "2bdfbd82",
   "metadata": {},
   "outputs": [],
   "source": [
    "df.to_csv(\"xiaomi_stock_price_after cleaning and processing.csv\", index= False)"
   ]
  },
  {
   "cell_type": "markdown",
   "id": "5347af89",
   "metadata": {},
   "source": [
    "### IV. Basic technical indicator calculation:\n",
    "#### 1. Simple moving average **SMA** with 20-day, 50-day intervals:"
   ]
  },
  {
   "cell_type": "code",
   "execution_count": 6,
   "id": "ed854909",
   "metadata": {},
   "outputs": [],
   "source": [
    "df['SMA20'] = df['Close'].rolling(window=20).mean()\n",
    "df['SMA50'] = df['Close'].rolling(window=50).mean()"
   ]
  },
  {
   "cell_type": "markdown",
   "id": "9d8af076",
   "metadata": {},
   "source": [
    "#### 2. Exponential moving average **EMA** with 20-day interval:"
   ]
  },
  {
   "cell_type": "code",
   "execution_count": 7,
   "id": "2de866ee",
   "metadata": {},
   "outputs": [],
   "source": [
    "df['EMA20'] = df['Close'].ewm(span=20, adjust=False).mean()"
   ]
  },
  {
   "cell_type": "markdown",
   "id": "961b8f57",
   "metadata": {},
   "source": [
    "Find the SMA Crossover Point (Golden/Death Cross)"
   ]
  },
  {
   "cell_type": "code",
   "execution_count": null,
   "id": "ec4cecfe",
   "metadata": {},
   "outputs": [],
   "source": [
    "df['Signal'] = 0\n",
    "df.loc[(df['SMA20'] > df['SMA50']) & (df['SMA20'].shift(1) <= df['SMA50'].shift(1)), 'Signal'] = 1\n",
    "df.loc[(df['SMA20'] < df['SMA50']) & (df['SMA20'].shift(1) >= df['SMA50'].shift(1)), 'Signal'] = -1\n",
    "\n",
    "golden_cross = df[df['Signal'] == 1]\n",
    "death_cross = df[df['Signal'] == -1]"
   ]
  },
  {
   "cell_type": "markdown",
   "id": "d6463e23",
   "metadata": {},
   "source": [
    "- The chart can show the correlation between the closing price, SMA and EMA:"
   ]
  },
  {
   "cell_type": "code",
   "execution_count": null,
   "id": "aedc974d",
   "metadata": {},
   "outputs": [],
   "source": [
    "fig = go.Figure()\n",
    "\n",
    "fig.add_trace(go.Scatter(x=df['Date'], y=df['Close'], name='Close', line=dict(color='blue')))\n",
    "fig.add_trace(go.Scatter(x=df['Date'], y=df['SMA20'], name='SMA20', line=dict(color='green', dash='dash')))\n",
    "fig.add_trace(go.Scatter(x=df['Date'], y=df['SMA50'], name='SMA50', line=dict(color='orange', dash='dash')))\n",
    "\n",
    "fig.add_trace(go.Scatter(x=df['Date'], y=df['EMA20'], name='EMA20', line=dict(color='magenta', dash='dot')))\n",
    "\n",
    "fig.add_trace(go.Scatter(\n",
    "    x=golden_cross['Date'], y=golden_cross['Close'],\n",
    "    mode='markers', marker=dict(color='green', size=10, symbol='triangle-up'), name='Golden Cross'\n",
    "))\n",
    "fig.add_trace(go.Scatter(\n",
    "    x=death_cross['Date'], y=death_cross['Close'],\n",
    "    mode='markers', marker=dict(color='red', size=10, symbol='triangle-down'), name='Death Cross'\n",
    "))\n",
    "\n",
    "fig.update_layout(\n",
    "    title={'text': f\"SMA & EMA của {symbol} và điểm giao cắt\", 'x': 0.5},\n",
    "    xaxis_title='Ngày',\n",
    "    yaxis_title='Giá (HKD)',\n",
    "    hovermode='x unified',\n",
    "    template='plotly_white'\n",
    ")\n",
    "\n",
    "fig.write_html(\"close price, SMA and EMA.html\")\n",
    "webbrowser.open(\"close price, SMA and EMA.html\")"
   ]
  },
  {
   "cell_type": "markdown",
   "id": "23794794",
   "metadata": {},
   "source": [
    "#### 3. Relative Strength Index **RSI**:"
   ]
  },
  {
   "cell_type": "code",
   "execution_count": 8,
   "id": "ee27264f",
   "metadata": {},
   "outputs": [],
   "source": [
    "def compute_rsi(data, window=14):\n",
    "    delta = data.diff()\n",
    "    gain = delta.clip(lower=0)\n",
    "    loss = -1 * delta.clip(upper=0)\n",
    "    avg_gain = gain.rolling(window=window).mean()\n",
    "    avg_loss = loss.rolling(window=window).mean()\n",
    "    rs = avg_gain / avg_loss\n",
    "    rsi = 100 - (100 / (1 + rs))\n",
    "    return rsi\n",
    "\n",
    "df['RSI'] = compute_rsi(df['Close'])\n"
   ]
  },
  {
   "cell_type": "markdown",
   "id": "6dee12de",
   "metadata": {},
   "source": [
    "Identify overbought/oversold conditions"
   ]
  },
  {
   "cell_type": "code",
   "execution_count": 25,
   "id": "8a0dc452",
   "metadata": {},
   "outputs": [],
   "source": [
    "overbought = df[df['RSI'] > 70]\n",
    "oversold = df[df['RSI'] < 30]"
   ]
  },
  {
   "cell_type": "markdown",
   "id": "d26620fa",
   "metadata": {},
   "source": [
    "- The chart can show the correlation between SMA, RSI:"
   ]
  },
  {
   "cell_type": "code",
   "execution_count": 29,
   "id": "b385e30c",
   "metadata": {},
   "outputs": [
    {
     "data": {
      "text/plain": [
       "True"
      ]
     },
     "execution_count": 29,
     "metadata": {},
     "output_type": "execute_result"
    }
   ],
   "source": [
    "fig = sp.make_subplots(\n",
    "    rows=2, cols=1,\n",
    "    shared_xaxes=True,\n",
    "    vertical_spacing=0.08,\n",
    "    subplot_titles=(\"Giá và SMA\", \"RSI (14 ngày)\")\n",
    ")\n",
    "\n",
    "fig.add_trace(go.Scatter(x=df['Date'], y=df['Close'], name='Close', line=dict(color='blue')), row=1, col=1)\n",
    "fig.add_trace(go.Scatter(x=df['Date'], y=df['SMA20'], name='SMA20', line=dict(color='green', dash='dash')), row=1, col=1)\n",
    "fig.add_trace(go.Scatter(x=df['Date'], y=df['SMA50'], name='SMA50', line=dict(color='orange', dash='dash')), row=1, col=1)\n",
    "\n",
    "fig.add_trace(go.Scatter(x=df['Date'], y=df['RSI'], name='RSI', line=dict(color='purple')), row=2, col=1)\n",
    "\n",
    "fig.add_hline(y=70, line_dash=\"dash\", line_color='red', row=2, col=1)\n",
    "fig.add_hline(y=30, line_dash=\"dash\", line_color='green', row=2, col=1)\n",
    "\n",
    "fig.add_trace(go.Scatter(\n",
    "    x=overbought['Date'], y=overbought['RSI'], mode='markers', name='Overbought',\n",
    "    marker=dict(color='red', size=8, symbol='triangle-down')\n",
    "), row=2, col=1)\n",
    "fig.add_trace(go.Scatter(\n",
    "    x=oversold['Date'], y=oversold['RSI'], mode='markers', name='Oversold',\n",
    "    marker=dict(color='green', size=8, symbol='triangle-up')\n",
    "), row=2, col=1)\n",
    "\n",
    "fig.update_layout(\n",
    "    title={'text': f\"Phân tích cổ phiếu {symbol}: Giá + SMA và RSI (14 ngày)\", 'x': 0.5},\n",
    "    hovermode='x unified',\n",
    "    template='plotly_white',\n",
    "    height=800\n",
    ")\n",
    "\n",
    "fig.write_html(\"SMA_RSI.html\")\n",
    "webbrowser.open(\"SMA_RSI.html\")"
   ]
  },
  {
   "cell_type": "markdown",
   "id": "e468216f",
   "metadata": {},
   "source": [
    "- Correlation heatmap chart"
   ]
  },
  {
   "cell_type": "code",
   "execution_count": null,
   "id": "755e2771",
   "metadata": {},
   "outputs": [],
   "source": [
    "corr_df = df[['Close', 'SMA20', 'SMA50', 'EMA20', 'Daily Return']].dropna()\n",
    "correlation_matrix = corr_df.corr()\n",
    "\n",
    "plt.figure(figsize=(8, 6))\n",
    "sns.heatmap(correlation_matrix, annot=True, cmap='coolwarm', fmt=\".2f\")\n",
    "plt.title('Heatmap ma trận tương quan các chỉ số kỹ thuật')\n",
    "plt.tight_layout()\n",
    "plt.show()"
   ]
  },
  {
   "cell_type": "markdown",
   "id": "66620b08",
   "metadata": {},
   "source": [
    "### V. Data analysis:"
   ]
  },
  {
   "cell_type": "markdown",
   "id": "06542dd7",
   "metadata": {},
   "source": [
    "#### 1. Calculating daily returns, return distribution:\n",
    "Daily returns are calculated as the percentage change between the closing price of the current day and the previous day. Daily returns help to assess the short-term price increase/decrease rate.\n",
    "The variable `Daily Return` is added to analyze returns and volatility."
   ]
  },
  {
   "cell_type": "code",
   "execution_count": 9,
   "id": "eaff1033",
   "metadata": {},
   "outputs": [],
   "source": [
    "df['Daily Return'] = df['Close'].pct_change()"
   ]
  },
  {
   "cell_type": "markdown",
   "id": "24db1a8b",
   "metadata": {},
   "source": [
    "Distribute the yield using Histogram to see which range the yield falls within and how it is distributed.\n",
    "\n",
    "Formula used:\n",
    "\n",
    "$$\n",
    "r_t = \\frac{P_t - P_{t-1}}{P_{t-1}}\n",
    "$$"
   ]
  },
  {
   "cell_type": "markdown",
   "id": "b0712023",
   "metadata": {},
   "source": [
    "- Daily yield chart:"
   ]
  },
  {
   "cell_type": "code",
   "execution_count": 17,
   "id": "b1c317ce",
   "metadata": {},
   "outputs": [
    {
     "data": {
      "image/png": "[encoded data removed]",
      "text/plain": [
       "<Figure size 1000x500 with 1 Axes>"
      ]
     },
     "metadata": {},
     "output_type": "display_data"
    }
   ],
   "source": [
    "plt.figure(figsize=(10,5))\n",
    "plt.plot(df['Date'], df['Daily Return'], color='blue')\n",
    "plt.axhline(0, color='black', linestyle='--', alpha=0.7)\n",
    "plt.title(f'Lợi suất hằng ngày của {symbol}', fontsize=14)\n",
    "plt.xlabel('Ngày')\n",
    "plt.ylabel('Lợi suất hằng ngày')\n",
    "plt.grid(True, alpha=0.3)\n",
    "plt.tight_layout()\n",
    "plt.show()"
   ]
  },
  {
   "cell_type": "markdown",
   "id": "5a9089c8",
   "metadata": {},
   "source": [
    "- Histogram"
   ]
  },
  {
   "cell_type": "code",
   "execution_count": 10,
   "id": "317f40e7",
   "metadata": {},
   "outputs": [
    {
     "data": {
      "image/png": "[encoded data removed]",
      "text/plain": [
       "<Figure size 640x480 with 1 Axes>"
      ]
     },
     "metadata": {},
     "output_type": "display_data"
    }
   ],
   "source": [
    "sns.histplot(df['Daily Return'].dropna(), bins=50, kde=True)\n",
    "plt.title('Phân phối lợi suất hằng ngày (Daily Return)')\n",
    "plt.xlabel('Lợi suất')\n",
    "plt.ylabel('Tần suất')\n",
    "plt.grid(True)\n",
    "plt.show()\n"
   ]
  },
  {
   "cell_type": "markdown",
   "id": "c280982d",
   "metadata": {},
   "source": [
    "#### 2. Calculate the volatility (variability) by month or quarter:"
   ]
  },
  {
   "cell_type": "markdown",
   "id": "734deae7",
   "metadata": {},
   "source": [
    "- Monthly/quarterly volatility is calculated by the difference in the constant interest in each month/quarter. Through this, it is possible to identify periods of strong stock price fluctuations.\n",
    "\n",
    "Since the survey period is neither too short nor too long (1 year), we will prioritize calculating monthly volatility to easily track the data."
   ]
  },
  {
   "cell_type": "code",
   "execution_count": 19,
   "id": "e38cffee",
   "metadata": {},
   "outputs": [
    {
     "name": "stderr",
     "output_type": "stream",
     "text": [
      "C:\\Users\\tran huu duong\\AppData\\Local\\Temp\\ipykernel_12864\\3088838682.py:1: UserWarning:\n",
      "\n",
      "Converting to PeriodArray/Index representation will drop timezone information.\n",
      "\n"
     ]
    },
    {
     "data": {
      "text/plain": [
       "Month\n",
       "2024-06    0.025812\n",
       "2024-07    0.021472\n",
       "2024-08    0.024859\n",
       "2024-09    0.020323\n",
       "2024-10    0.034029\n",
       "2024-11    0.023621\n",
       "2024-12    0.020026\n",
       "2025-01    0.033143\n",
       "2025-02    0.037978\n",
       "2025-03    0.033267\n",
       "2025-04    0.064071\n",
       "2025-05    0.027099\n",
       "2025-06    0.020861\n",
       "Freq: M, Name: Daily Return, dtype: float64"
      ]
     },
     "metadata": {},
     "output_type": "display_data"
    }
   ],
   "source": [
    "df['Month'] = df['Date'].dt.to_period('M')\n",
    "monthly_volatility = df.groupby('Month')['Daily Return'].std()\n",
    "display(monthly_volatility)"
   ]
  },
  {
   "cell_type": "markdown",
   "id": "a46c1ed9",
   "metadata": {},
   "source": [
    "- The chart can show volatility:"
   ]
  },
  {
   "cell_type": "code",
   "execution_count": 20,
   "id": "5eceb711",
   "metadata": {},
   "outputs": [
    {
     "data": {
      "image/png": "[encoded data removed]",
      "text/plain": [
       "<Figure size 1000x500 with 1 Axes>"
      ]
     },
     "metadata": {},
     "output_type": "display_data"
    }
   ],
   "source": [
    "plt.figure(figsize=(10,5))\n",
    "monthly_volatility.plot(kind='bar', color='steelblue')\n",
    "plt.title(f'Độ biến động hàng tháng của {symbol}', fontsize=14)\n",
    "plt.ylabel('Volatility (std của Daily Returns)')\n",
    "plt.xlabel('Tháng')\n",
    "plt.grid(axis='y', alpha=0.3)\n",
    "plt.xticks(rotation=45)\n",
    "plt.tight_layout()\n",
    "plt.show()"
   ]
  },
  {
   "cell_type": "markdown",
   "id": "f86fc352",
   "metadata": {},
   "source": [
    "- Chart showing total trading volume"
   ]
  },
  {
   "cell_type": "code",
   "execution_count": 9,
   "id": "eee8e18b",
   "metadata": {},
   "outputs": [
    {
     "data": {
      "text/plain": [
       "True"
      ]
     },
     "execution_count": 9,
     "metadata": {},
     "output_type": "execute_result"
    }
   ],
   "source": [
    "fig = px.bar(df, x='Date', y='Volume',\n",
    "             title=f'Khối lượng giao dịch cổ phiếu {symbol}',\n",
    "             labels={'Volume': 'Volume', 'Date': 'Ngày'},\n",
    "             template='plotly_white')\n",
    "\n",
    "fig.update_layout(title_x=0.5)\n",
    "\n",
    "fig.write_html(\"Trading_Volume.html\")\n",
    "webbrowser.open(\"Trading_Volume.html\")"
   ]
  }
 ],
 "metadata": {
  "kernelspec": {
   "display_name": "Python 3",
   "language": "python",
   "name": "python3"
  },
  "language_info": {
   "codemirror_mode": {
    "name": "ipython",
    "version": 3
   },
   "file_extension": ".py",
   "mimetype": "text/x-python",
   "name": "python",
   "nbconvert_exporter": "python",
   "pygments_lexer": "ipython3",
   "version": "3.13.3"
  }
 },
 "nbformat": 4,
 "nbformat_minor": 5
}
